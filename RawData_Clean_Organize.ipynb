{
 "cells": [
  {
   "cell_type": "code",
   "execution_count": 1,
   "id": "f2ec8c97",
   "metadata": {},
   "outputs": [],
   "source": [
    "import pandas as pd\n",
    "import numpy as np\n",
    "from matplotlib import pyplot as plt\n",
    "plt.style.use('ggplot')\n",
    "plt.rcParams.update({'font.size': 20})"
   ]
  },
  {
   "cell_type": "markdown",
   "id": "3f00a9d5",
   "metadata": {},
   "source": [
    "# Load MetroBike \"Trips\" Dataframe"
   ]
  },
  {
   "cell_type": "code",
   "execution_count": 2,
   "id": "4cace3a5",
   "metadata": {},
   "outputs": [
    {
     "name": "stderr",
     "output_type": "stream",
     "text": [
      "/Users/flyingcape/opt/anaconda3/lib/python3.8/site-packages/IPython/core/interactiveshell.py:3165: DtypeWarning: Columns (2,7) have mixed types.Specify dtype option on import or set low_memory=False.\n",
      "  has_raised = await self.run_ast_nodes(code_ast.body, cell_name,\n"
     ]
    }
   ],
   "source": [
    "trips = pd.read_csv('./data/data_austintexas_gov/Austin_MetroBike_Trips.csv') "
   ]
  },
  {
   "cell_type": "code",
   "execution_count": 3,
   "id": "4819a8bc",
   "metadata": {},
   "outputs": [
    {
     "data": {
      "text/html": [
       "<div>\n",
       "<style scoped>\n",
       "    .dataframe tbody tr th:only-of-type {\n",
       "        vertical-align: middle;\n",
       "    }\n",
       "\n",
       "    .dataframe tbody tr th {\n",
       "        vertical-align: top;\n",
       "    }\n",
       "\n",
       "    .dataframe thead th {\n",
       "        text-align: right;\n",
       "    }\n",
       "</style>\n",
       "<table border=\"1\" class=\"dataframe\">\n",
       "  <thead>\n",
       "    <tr style=\"text-align: right;\">\n",
       "      <th></th>\n",
       "      <th>Trip ID</th>\n",
       "      <th>Membership Type</th>\n",
       "      <th>Bicycle ID</th>\n",
       "      <th>Checkout Date</th>\n",
       "      <th>Checkout Time</th>\n",
       "      <th>Checkout Kiosk ID</th>\n",
       "      <th>Checkout Kiosk</th>\n",
       "      <th>Return Kiosk ID</th>\n",
       "      <th>Return Kiosk</th>\n",
       "      <th>Trip Duration Minutes</th>\n",
       "      <th>Month</th>\n",
       "      <th>Year</th>\n",
       "    </tr>\n",
       "  </thead>\n",
       "  <tbody>\n",
       "    <tr>\n",
       "      <th>0</th>\n",
       "      <td>9900285854</td>\n",
       "      <td>Annual (San Antonio B-cycle)</td>\n",
       "      <td>207.0</td>\n",
       "      <td>10/26/2014</td>\n",
       "      <td>13:12:00</td>\n",
       "      <td>2537.0</td>\n",
       "      <td>West &amp; 6th St.</td>\n",
       "      <td>2707.0</td>\n",
       "      <td>Rainey St @ Cummings</td>\n",
       "      <td>76</td>\n",
       "      <td>10.0</td>\n",
       "      <td>2014.0</td>\n",
       "    </tr>\n",
       "    <tr>\n",
       "      <th>1</th>\n",
       "      <td>9900285855</td>\n",
       "      <td>24-Hour Kiosk (Austin B-cycle)</td>\n",
       "      <td>969.0</td>\n",
       "      <td>10/26/2014</td>\n",
       "      <td>13:12:00</td>\n",
       "      <td>2498.0</td>\n",
       "      <td>Convention Center / 4th St. @ MetroRail</td>\n",
       "      <td>2566.0</td>\n",
       "      <td>Pfluger Bridge @ W 2nd Street</td>\n",
       "      <td>58</td>\n",
       "      <td>10.0</td>\n",
       "      <td>2014.0</td>\n",
       "    </tr>\n",
       "    <tr>\n",
       "      <th>2</th>\n",
       "      <td>9900285856</td>\n",
       "      <td>Annual Membership (Austin B-cycle)</td>\n",
       "      <td>214.0</td>\n",
       "      <td>10/26/2014</td>\n",
       "      <td>13:12:00</td>\n",
       "      <td>2537.0</td>\n",
       "      <td>West &amp; 6th St.</td>\n",
       "      <td>2496.0</td>\n",
       "      <td>8th &amp; Congress</td>\n",
       "      <td>8</td>\n",
       "      <td>10.0</td>\n",
       "      <td>2014.0</td>\n",
       "    </tr>\n",
       "    <tr>\n",
       "      <th>3</th>\n",
       "      <td>9900285857</td>\n",
       "      <td>24-Hour Kiosk (Austin B-cycle)</td>\n",
       "      <td>745.0</td>\n",
       "      <td>10/26/2014</td>\n",
       "      <td>13:12:00</td>\n",
       "      <td>NaN</td>\n",
       "      <td>Zilker Park at Barton Springs &amp; William Barton...</td>\n",
       "      <td>NaN</td>\n",
       "      <td>Zilker Park at Barton Springs &amp; William Barton...</td>\n",
       "      <td>28</td>\n",
       "      <td>10.0</td>\n",
       "      <td>2014.0</td>\n",
       "    </tr>\n",
       "    <tr>\n",
       "      <th>4</th>\n",
       "      <td>9900285858</td>\n",
       "      <td>24-Hour Kiosk (Austin B-cycle)</td>\n",
       "      <td>164.0</td>\n",
       "      <td>10/26/2014</td>\n",
       "      <td>13:12:00</td>\n",
       "      <td>2538.0</td>\n",
       "      <td>Bullock Museum @ Congress &amp; MLK</td>\n",
       "      <td>NaN</td>\n",
       "      <td>Convention Center/ 3rd &amp; Trinity</td>\n",
       "      <td>15</td>\n",
       "      <td>10.0</td>\n",
       "      <td>2014.0</td>\n",
       "    </tr>\n",
       "  </tbody>\n",
       "</table>\n",
       "</div>"
      ],
      "text/plain": [
       "      Trip ID                     Membership Type Bicycle ID Checkout Date  \\\n",
       "0  9900285854        Annual (San Antonio B-cycle)      207.0    10/26/2014   \n",
       "1  9900285855      24-Hour Kiosk (Austin B-cycle)      969.0    10/26/2014   \n",
       "2  9900285856  Annual Membership (Austin B-cycle)      214.0    10/26/2014   \n",
       "3  9900285857      24-Hour Kiosk (Austin B-cycle)      745.0    10/26/2014   \n",
       "4  9900285858      24-Hour Kiosk (Austin B-cycle)      164.0    10/26/2014   \n",
       "\n",
       "  Checkout Time  Checkout Kiosk ID  \\\n",
       "0      13:12:00             2537.0   \n",
       "1      13:12:00             2498.0   \n",
       "2      13:12:00             2537.0   \n",
       "3      13:12:00                NaN   \n",
       "4      13:12:00             2538.0   \n",
       "\n",
       "                                      Checkout Kiosk Return Kiosk ID  \\\n",
       "0                                     West & 6th St.          2707.0   \n",
       "1            Convention Center / 4th St. @ MetroRail          2566.0   \n",
       "2                                     West & 6th St.          2496.0   \n",
       "3  Zilker Park at Barton Springs & William Barton...             NaN   \n",
       "4                    Bullock Museum @ Congress & MLK             NaN   \n",
       "\n",
       "                                        Return Kiosk  Trip Duration Minutes  \\\n",
       "0                               Rainey St @ Cummings                     76   \n",
       "1                      Pfluger Bridge @ W 2nd Street                     58   \n",
       "2                                     8th & Congress                      8   \n",
       "3  Zilker Park at Barton Springs & William Barton...                     28   \n",
       "4                   Convention Center/ 3rd & Trinity                     15   \n",
       "\n",
       "   Month    Year  \n",
       "0   10.0  2014.0  \n",
       "1   10.0  2014.0  \n",
       "2   10.0  2014.0  \n",
       "3   10.0  2014.0  \n",
       "4   10.0  2014.0  "
      ]
     },
     "execution_count": 3,
     "metadata": {},
     "output_type": "execute_result"
    }
   ],
   "source": [
    "trips.head()"
   ]
  },
  {
   "cell_type": "code",
   "execution_count": 4,
   "id": "526e19a8",
   "metadata": {},
   "outputs": [
    {
     "data": {
      "text/plain": [
       "1424786"
      ]
     },
     "execution_count": 4,
     "metadata": {},
     "output_type": "execute_result"
    }
   ],
   "source": [
    "# check number of rows/trips\n",
    "trips.shape[0]"
   ]
  },
  {
   "cell_type": "code",
   "execution_count": 5,
   "id": "a53994c9",
   "metadata": {},
   "outputs": [
    {
     "data": {
      "text/plain": [
       "Trip ID                    int64\n",
       "Membership Type           object\n",
       "Bicycle ID                object\n",
       "Checkout Date             object\n",
       "Checkout Time             object\n",
       "Checkout Kiosk ID        float64\n",
       "Checkout Kiosk            object\n",
       "Return Kiosk ID           object\n",
       "Return Kiosk              object\n",
       "Trip Duration Minutes      int64\n",
       "Month                    float64\n",
       "Year                     float64\n",
       "dtype: object"
      ]
     },
     "execution_count": 5,
     "metadata": {},
     "output_type": "execute_result"
    }
   ],
   "source": [
    "trips.dtypes"
   ]
  },
  {
   "cell_type": "markdown",
   "id": "34338367",
   "metadata": {},
   "source": [
    "# Load \"Kiosk\" Dataframe"
   ]
  },
  {
   "cell_type": "code",
   "execution_count": 6,
   "id": "4175d255",
   "metadata": {},
   "outputs": [],
   "source": [
    "kiosk = pd.read_csv('./data/data_austintexas_gov/Austin_MetroBike_Kiosk_Locations.csv') "
   ]
  },
  {
   "cell_type": "code",
   "execution_count": 7,
   "id": "8dbb0b77",
   "metadata": {},
   "outputs": [
    {
     "data": {
      "text/html": [
       "<div>\n",
       "<style scoped>\n",
       "    .dataframe tbody tr th:only-of-type {\n",
       "        vertical-align: middle;\n",
       "    }\n",
       "\n",
       "    .dataframe tbody tr th {\n",
       "        vertical-align: top;\n",
       "    }\n",
       "\n",
       "    .dataframe thead th {\n",
       "        text-align: right;\n",
       "    }\n",
       "</style>\n",
       "<table border=\"1\" class=\"dataframe\">\n",
       "  <thead>\n",
       "    <tr style=\"text-align: right;\">\n",
       "      <th></th>\n",
       "      <th>Kiosk ID</th>\n",
       "      <th>Kiosk Name</th>\n",
       "      <th>Kiosk Status</th>\n",
       "      <th>Location</th>\n",
       "      <th>Address</th>\n",
       "      <th>Alternate Name</th>\n",
       "      <th>City Asset Number</th>\n",
       "      <th>Property Type</th>\n",
       "      <th>Number of Docks</th>\n",
       "      <th>Power Type</th>\n",
       "      <th>Footprint Length</th>\n",
       "      <th>Footprint Width</th>\n",
       "      <th>Notes</th>\n",
       "      <th>Council District</th>\n",
       "      <th>Image</th>\n",
       "      <th>Modified Date</th>\n",
       "    </tr>\n",
       "  </thead>\n",
       "  <tbody>\n",
       "    <tr>\n",
       "      <th>0</th>\n",
       "      <td>2570</td>\n",
       "      <td>South Congress &amp; Academy</td>\n",
       "      <td>active</td>\n",
       "      <td>(30.25226, -97.74854)</td>\n",
       "      <td>1199 S. Congress Ave.</td>\n",
       "      <td>NaN</td>\n",
       "      <td>16752.0</td>\n",
       "      <td>sidewalk</td>\n",
       "      <td>10.0</td>\n",
       "      <td>solar</td>\n",
       "      <td>20.0</td>\n",
       "      <td>7.5</td>\n",
       "      <td>on bulb-out</td>\n",
       "      <td>9</td>\n",
       "      <td>NaN</td>\n",
       "      <td>01/04/2021 12:00:00 AM</td>\n",
       "    </tr>\n",
       "    <tr>\n",
       "      <th>1</th>\n",
       "      <td>2571</td>\n",
       "      <td>Red River &amp; 8th Street</td>\n",
       "      <td>active</td>\n",
       "      <td>(30.26854, -97.73646)</td>\n",
       "      <td>761 Red River St.</td>\n",
       "      <td>NaN</td>\n",
       "      <td>16760.0</td>\n",
       "      <td>sidewalk</td>\n",
       "      <td>13.0</td>\n",
       "      <td>solar</td>\n",
       "      <td>40.0</td>\n",
       "      <td>5.0</td>\n",
       "      <td>on pad built in ROW/easement</td>\n",
       "      <td>9</td>\n",
       "      <td>NaN</td>\n",
       "      <td>01/04/2021 12:00:00 AM</td>\n",
       "    </tr>\n",
       "    <tr>\n",
       "      <th>2</th>\n",
       "      <td>2572</td>\n",
       "      <td>Barton Springs Pool</td>\n",
       "      <td>active</td>\n",
       "      <td>(30.26452, -97.7712)</td>\n",
       "      <td>2200 William Barton Dr.</td>\n",
       "      <td>NaN</td>\n",
       "      <td>16758.0</td>\n",
       "      <td>parkland</td>\n",
       "      <td>13.0</td>\n",
       "      <td>solar</td>\n",
       "      <td>40.0</td>\n",
       "      <td>5.0</td>\n",
       "      <td>NaN</td>\n",
       "      <td>8</td>\n",
       "      <td>NaN</td>\n",
       "      <td>01/04/2021 12:00:00 AM</td>\n",
       "    </tr>\n",
       "    <tr>\n",
       "      <th>3</th>\n",
       "      <td>2574</td>\n",
       "      <td>Zilker Park</td>\n",
       "      <td>active</td>\n",
       "      <td>(30.2659, -97.76822)</td>\n",
       "      <td>Barton Springs Rd</td>\n",
       "      <td>Zilker Park at Barton Springs and William Burt...</td>\n",
       "      <td>16759.0</td>\n",
       "      <td>parkland</td>\n",
       "      <td>17.0</td>\n",
       "      <td>solar</td>\n",
       "      <td>50.0</td>\n",
       "      <td>5.0</td>\n",
       "      <td>parkland at ROW/easement</td>\n",
       "      <td>8</td>\n",
       "      <td>NaN</td>\n",
       "      <td>01/04/2021 12:00:00 AM</td>\n",
       "    </tr>\n",
       "    <tr>\n",
       "      <th>4</th>\n",
       "      <td>2575</td>\n",
       "      <td>Riverside @ S. Lamar</td>\n",
       "      <td>active</td>\n",
       "      <td>(30.26446, -97.75665)</td>\n",
       "      <td>Presented by Austin Parks Foundation</td>\n",
       "      <td>NaN</td>\n",
       "      <td>16736.0</td>\n",
       "      <td>parkland</td>\n",
       "      <td>15.0</td>\n",
       "      <td>solar</td>\n",
       "      <td>45.0</td>\n",
       "      <td>5.0</td>\n",
       "      <td>parkland at ROW/easement</td>\n",
       "      <td>5</td>\n",
       "      <td>NaN</td>\n",
       "      <td>01/04/2021 12:00:00 AM</td>\n",
       "    </tr>\n",
       "  </tbody>\n",
       "</table>\n",
       "</div>"
      ],
      "text/plain": [
       "   Kiosk ID                Kiosk Name Kiosk Status               Location  \\\n",
       "0      2570  South Congress & Academy       active  (30.25226, -97.74854)   \n",
       "1      2571    Red River & 8th Street       active  (30.26854, -97.73646)   \n",
       "2      2572       Barton Springs Pool       active   (30.26452, -97.7712)   \n",
       "3      2574               Zilker Park       active   (30.2659, -97.76822)   \n",
       "4      2575      Riverside @ S. Lamar       active  (30.26446, -97.75665)   \n",
       "\n",
       "                                Address  \\\n",
       "0                 1199 S. Congress Ave.   \n",
       "1                     761 Red River St.   \n",
       "2               2200 William Barton Dr.   \n",
       "3                     Barton Springs Rd   \n",
       "4  Presented by Austin Parks Foundation   \n",
       "\n",
       "                                      Alternate Name  City Asset Number  \\\n",
       "0                                                NaN            16752.0   \n",
       "1                                                NaN            16760.0   \n",
       "2                                                NaN            16758.0   \n",
       "3  Zilker Park at Barton Springs and William Burt...            16759.0   \n",
       "4                                                NaN            16736.0   \n",
       "\n",
       "  Property Type  Number of Docks Power Type  Footprint Length  \\\n",
       "0      sidewalk             10.0      solar              20.0   \n",
       "1      sidewalk             13.0      solar              40.0   \n",
       "2      parkland             13.0      solar              40.0   \n",
       "3      parkland             17.0      solar              50.0   \n",
       "4      parkland             15.0      solar              45.0   \n",
       "\n",
       "   Footprint Width                         Notes  Council District  Image  \\\n",
       "0              7.5                   on bulb-out                 9    NaN   \n",
       "1              5.0  on pad built in ROW/easement                 9    NaN   \n",
       "2              5.0                           NaN                 8    NaN   \n",
       "3              5.0      parkland at ROW/easement                 8    NaN   \n",
       "4              5.0      parkland at ROW/easement                 5    NaN   \n",
       "\n",
       "            Modified Date  \n",
       "0  01/04/2021 12:00:00 AM  \n",
       "1  01/04/2021 12:00:00 AM  \n",
       "2  01/04/2021 12:00:00 AM  \n",
       "3  01/04/2021 12:00:00 AM  \n",
       "4  01/04/2021 12:00:00 AM  "
      ]
     },
     "execution_count": 7,
     "metadata": {},
     "output_type": "execute_result"
    }
   ],
   "source": [
    "kiosk.head()"
   ]
  },
  {
   "cell_type": "code",
   "execution_count": 8,
   "id": "7bf90baf",
   "metadata": {},
   "outputs": [
    {
     "data": {
      "text/plain": [
       "98"
      ]
     },
     "execution_count": 8,
     "metadata": {},
     "output_type": "execute_result"
    }
   ],
   "source": [
    "# check number of rows/kiosk locations\n",
    "kiosk.shape[0]"
   ]
  },
  {
   "cell_type": "code",
   "execution_count": 9,
   "id": "487d7bfe",
   "metadata": {},
   "outputs": [
    {
     "data": {
      "text/plain": [
       "Kiosk ID               int64\n",
       "Kiosk Name            object\n",
       "Kiosk Status          object\n",
       "Location              object\n",
       "Address               object\n",
       "Alternate Name        object\n",
       "City Asset Number    float64\n",
       "Property Type         object\n",
       "Number of Docks      float64\n",
       "Power Type            object\n",
       "Footprint Length     float64\n",
       "Footprint Width      float64\n",
       "Notes                 object\n",
       "Council District       int64\n",
       "Image                float64\n",
       "Modified Date         object\n",
       "dtype: object"
      ]
     },
     "execution_count": 9,
     "metadata": {},
     "output_type": "execute_result"
    }
   ],
   "source": [
    "kiosk.dtypes"
   ]
  },
  {
   "cell_type": "markdown",
   "id": "4a85bacb",
   "metadata": {},
   "source": [
    "# Loading Community Survey Dataframe"
   ]
  },
  {
   "cell_type": "code",
   "execution_count": 10,
   "id": "9519b4ec",
   "metadata": {},
   "outputs": [
    {
     "name": "stderr",
     "output_type": "stream",
     "text": [
      "/Users/flyingcape/opt/anaconda3/lib/python3.8/site-packages/IPython/core/interactiveshell.py:3165: DtypeWarning: Columns (7,9,10,12,13,14,15,16,17,18,19,20,21,25,30,31,32,36,37,38,39,42,43,44,62,63,64,65,73,80,83,85,86,87,88,89,90,91,92,93,94,95,96,99,100,104,111,113,114,115,116,117,118,119,123,124,125,126,127,128,129,135,136,137,144,145,147,148,149,150,151,152,153,154,155,156,157,158,159,160,161,162,172,173,189,190,191,192,193,199,200,201,204,205,209,212,213,214,215,216,217,218,219,220,223,233,234,235,236,237,238,239,241,243,244,245,246,247,248,249,250) have mixed types.Specify dtype option on import or set low_memory=False.\n",
      "  has_raised = await self.run_ast_nodes(code_ast.body, cell_name,\n"
     ]
    }
   ],
   "source": [
    "survey = pd.read_csv('./data/data_austintexas_gov/Community_Survey.csv') "
   ]
  },
  {
   "cell_type": "code",
   "execution_count": 11,
   "id": "267cf029",
   "metadata": {},
   "outputs": [
    {
     "data": {
      "text/plain": [
       "Year\n",
       "2015    2060\n",
       "2016    2099\n",
       "2017    2215\n",
       "2018    2261\n",
       "2019    2049\n",
       "dtype: int64"
      ]
     },
     "execution_count": 11,
     "metadata": {},
     "output_type": "execute_result"
    }
   ],
   "source": [
    "survey.groupby(['Year']).size() "
   ]
  },
  {
   "cell_type": "code",
   "execution_count": 12,
   "id": "12457335",
   "metadata": {},
   "outputs": [],
   "source": [
    "survey_2019 = survey.loc[survey['Year'] == 2019]"
   ]
  },
  {
   "cell_type": "markdown",
   "id": "43fcb7c7",
   "metadata": {},
   "source": [
    "# A. Data Cleaning - \"trips\" dataset - Adding New Columns "
   ]
  },
  {
   "cell_type": "markdown",
   "id": "4abe97e2",
   "metadata": {},
   "source": [
    "Note: The \"Year\" column was missing year data for trips between 2018-2021, while a \"Year_2\" column is created to address this issue, additionally - Checkout_Hour, Checkout_Min, Month_2, and Weekday columans were also created.  "
   ]
  },
  {
   "cell_type": "markdown",
   "id": "c27caff7",
   "metadata": {},
   "source": [
    "I. Adding \"Checkout_Hour\" and \"Checkout_Min\" columns"
   ]
  },
  {
   "cell_type": "code",
   "execution_count": 13,
   "id": "fe1edc42",
   "metadata": {},
   "outputs": [],
   "source": [
    "df_time = trips['Checkout Time']\n",
    "df_time_split = df_time.str.split(':',n=-1, expand=True)\n",
    "trips['Checkout_Hour']=pd.to_numeric(df_time_split[0])\n",
    "trips['Checkout_Min']=pd.to_numeric(df_time_split[1])"
   ]
  },
  {
   "cell_type": "code",
   "execution_count": 14,
   "id": "61ff4a07",
   "metadata": {},
   "outputs": [
    {
     "data": {
      "text/plain": [
       "Text(0, 0.5, '# of Rides')"
      ]
     },
     "execution_count": 14,
     "metadata": {},
     "output_type": "execute_result"
    },
    {
     "data": {
      "image/png": "[encoded data removed]",
      "text/plain": [
       "<Figure size 576x288 with 1 Axes>"
      ]
     },
     "metadata": {},
     "output_type": "display_data"
    }
   ],
   "source": [
    "# Checking if the \"Checkout_Hour\" data make sense\n",
    "plt.figure(figsize = (8,4))\n",
    "trips.groupby('Checkout_Hour').size().plot.bar(color = 'g')\n",
    "plt.ylabel('# of Rides')"
   ]
  },
  {
   "cell_type": "code",
   "execution_count": 15,
   "id": "8a690386",
   "metadata": {},
   "outputs": [
    {
     "data": {
      "text/plain": [
       "Year\n",
       "2013.0      1457\n",
       "2014.0    155703\n",
       "2015.0    184521\n",
       "2016.0    184680\n",
       "2017.0     92118\n",
       "dtype: int64"
      ]
     },
     "execution_count": 15,
     "metadata": {},
     "output_type": "execute_result"
    }
   ],
   "source": [
    "trips.groupby('Year').size()"
   ]
  },
  {
   "cell_type": "markdown",
   "id": "6376a333",
   "metadata": {},
   "source": [
    "The \"Year\" column is missing 2018-2021"
   ]
  },
  {
   "cell_type": "markdown",
   "id": "f44132cd",
   "metadata": {},
   "source": [
    "II. Because of this, I will create a new \"Year_2\" column "
   ]
  },
  {
   "cell_type": "code",
   "execution_count": 16,
   "id": "b3885fb3",
   "metadata": {},
   "outputs": [],
   "source": [
    "df = trips['Checkout Date']\n",
    "df_split0 = df.str.split('/', n=- 1, expand=True)\n",
    "df_split = df_split0.drop(df_split0.columns[[1]], axis=1)\n",
    "\n",
    "trips[\"Year_2\"] = df_split[2]\n"
   ]
  },
  {
   "cell_type": "markdown",
   "id": "a952af8a",
   "metadata": {},
   "source": [
    "III. Also, creating a \"Month_2\" and \"Weekday\" columns as well"
   ]
  },
  {
   "cell_type": "code",
   "execution_count": 17,
   "id": "81a4d0f6",
   "metadata": {},
   "outputs": [],
   "source": [
    "trips[\"Month_2\"] = df_split[0]\n",
    "\n",
    "# coverting dates to datetime\n",
    "ex = pd.to_datetime(trips['Checkout Date'], format=\"%m/%d/%Y\")\n",
    "\n",
    "trips[\"Weekday\"] = ex.dt.weekday"
   ]
  },
  {
   "cell_type": "code",
   "execution_count": 18,
   "id": "faef7703",
   "metadata": {},
   "outputs": [
    {
     "data": {
      "text/html": [
       "<div>\n",
       "<style scoped>\n",
       "    .dataframe tbody tr th:only-of-type {\n",
       "        vertical-align: middle;\n",
       "    }\n",
       "\n",
       "    .dataframe tbody tr th {\n",
       "        vertical-align: top;\n",
       "    }\n",
       "\n",
       "    .dataframe thead th {\n",
       "        text-align: right;\n",
       "    }\n",
       "</style>\n",
       "<table border=\"1\" class=\"dataframe\">\n",
       "  <thead>\n",
       "    <tr style=\"text-align: right;\">\n",
       "      <th></th>\n",
       "      <th>Trip ID</th>\n",
       "      <th>Membership Type</th>\n",
       "      <th>Bicycle ID</th>\n",
       "      <th>Checkout Date</th>\n",
       "      <th>Checkout Time</th>\n",
       "      <th>Checkout Kiosk ID</th>\n",
       "      <th>Checkout Kiosk</th>\n",
       "      <th>Return Kiosk ID</th>\n",
       "      <th>Return Kiosk</th>\n",
       "      <th>Trip Duration Minutes</th>\n",
       "      <th>Month</th>\n",
       "      <th>Year</th>\n",
       "      <th>Checkout_Hour</th>\n",
       "      <th>Checkout_Min</th>\n",
       "      <th>Year_2</th>\n",
       "      <th>Month_2</th>\n",
       "      <th>Weekday</th>\n",
       "    </tr>\n",
       "  </thead>\n",
       "  <tbody>\n",
       "    <tr>\n",
       "      <th>0</th>\n",
       "      <td>9900285854</td>\n",
       "      <td>Annual (San Antonio B-cycle)</td>\n",
       "      <td>207.0</td>\n",
       "      <td>10/26/2014</td>\n",
       "      <td>13:12:00</td>\n",
       "      <td>2537.0</td>\n",
       "      <td>West &amp; 6th St.</td>\n",
       "      <td>2707.0</td>\n",
       "      <td>Rainey St @ Cummings</td>\n",
       "      <td>76</td>\n",
       "      <td>10.0</td>\n",
       "      <td>2014.0</td>\n",
       "      <td>13</td>\n",
       "      <td>12</td>\n",
       "      <td>2014</td>\n",
       "      <td>10</td>\n",
       "      <td>6</td>\n",
       "    </tr>\n",
       "    <tr>\n",
       "      <th>1</th>\n",
       "      <td>9900285855</td>\n",
       "      <td>24-Hour Kiosk (Austin B-cycle)</td>\n",
       "      <td>969.0</td>\n",
       "      <td>10/26/2014</td>\n",
       "      <td>13:12:00</td>\n",
       "      <td>2498.0</td>\n",
       "      <td>Convention Center / 4th St. @ MetroRail</td>\n",
       "      <td>2566.0</td>\n",
       "      <td>Pfluger Bridge @ W 2nd Street</td>\n",
       "      <td>58</td>\n",
       "      <td>10.0</td>\n",
       "      <td>2014.0</td>\n",
       "      <td>13</td>\n",
       "      <td>12</td>\n",
       "      <td>2014</td>\n",
       "      <td>10</td>\n",
       "      <td>6</td>\n",
       "    </tr>\n",
       "    <tr>\n",
       "      <th>2</th>\n",
       "      <td>9900285856</td>\n",
       "      <td>Annual Membership (Austin B-cycle)</td>\n",
       "      <td>214.0</td>\n",
       "      <td>10/26/2014</td>\n",
       "      <td>13:12:00</td>\n",
       "      <td>2537.0</td>\n",
       "      <td>West &amp; 6th St.</td>\n",
       "      <td>2496.0</td>\n",
       "      <td>8th &amp; Congress</td>\n",
       "      <td>8</td>\n",
       "      <td>10.0</td>\n",
       "      <td>2014.0</td>\n",
       "      <td>13</td>\n",
       "      <td>12</td>\n",
       "      <td>2014</td>\n",
       "      <td>10</td>\n",
       "      <td>6</td>\n",
       "    </tr>\n",
       "    <tr>\n",
       "      <th>3</th>\n",
       "      <td>9900285857</td>\n",
       "      <td>24-Hour Kiosk (Austin B-cycle)</td>\n",
       "      <td>745.0</td>\n",
       "      <td>10/26/2014</td>\n",
       "      <td>13:12:00</td>\n",
       "      <td>NaN</td>\n",
       "      <td>Zilker Park at Barton Springs &amp; William Barton...</td>\n",
       "      <td>NaN</td>\n",
       "      <td>Zilker Park at Barton Springs &amp; William Barton...</td>\n",
       "      <td>28</td>\n",
       "      <td>10.0</td>\n",
       "      <td>2014.0</td>\n",
       "      <td>13</td>\n",
       "      <td>12</td>\n",
       "      <td>2014</td>\n",
       "      <td>10</td>\n",
       "      <td>6</td>\n",
       "    </tr>\n",
       "    <tr>\n",
       "      <th>4</th>\n",
       "      <td>9900285858</td>\n",
       "      <td>24-Hour Kiosk (Austin B-cycle)</td>\n",
       "      <td>164.0</td>\n",
       "      <td>10/26/2014</td>\n",
       "      <td>13:12:00</td>\n",
       "      <td>2538.0</td>\n",
       "      <td>Bullock Museum @ Congress &amp; MLK</td>\n",
       "      <td>NaN</td>\n",
       "      <td>Convention Center/ 3rd &amp; Trinity</td>\n",
       "      <td>15</td>\n",
       "      <td>10.0</td>\n",
       "      <td>2014.0</td>\n",
       "      <td>13</td>\n",
       "      <td>12</td>\n",
       "      <td>2014</td>\n",
       "      <td>10</td>\n",
       "      <td>6</td>\n",
       "    </tr>\n",
       "  </tbody>\n",
       "</table>\n",
       "</div>"
      ],
      "text/plain": [
       "      Trip ID                     Membership Type Bicycle ID Checkout Date  \\\n",
       "0  9900285854        Annual (San Antonio B-cycle)      207.0    10/26/2014   \n",
       "1  9900285855      24-Hour Kiosk (Austin B-cycle)      969.0    10/26/2014   \n",
       "2  9900285856  Annual Membership (Austin B-cycle)      214.0    10/26/2014   \n",
       "3  9900285857      24-Hour Kiosk (Austin B-cycle)      745.0    10/26/2014   \n",
       "4  9900285858      24-Hour Kiosk (Austin B-cycle)      164.0    10/26/2014   \n",
       "\n",
       "  Checkout Time  Checkout Kiosk ID  \\\n",
       "0      13:12:00             2537.0   \n",
       "1      13:12:00             2498.0   \n",
       "2      13:12:00             2537.0   \n",
       "3      13:12:00                NaN   \n",
       "4      13:12:00             2538.0   \n",
       "\n",
       "                                      Checkout Kiosk Return Kiosk ID  \\\n",
       "0                                     West & 6th St.          2707.0   \n",
       "1            Convention Center / 4th St. @ MetroRail          2566.0   \n",
       "2                                     West & 6th St.          2496.0   \n",
       "3  Zilker Park at Barton Springs & William Barton...             NaN   \n",
       "4                    Bullock Museum @ Congress & MLK             NaN   \n",
       "\n",
       "                                        Return Kiosk  Trip Duration Minutes  \\\n",
       "0                               Rainey St @ Cummings                     76   \n",
       "1                      Pfluger Bridge @ W 2nd Street                     58   \n",
       "2                                     8th & Congress                      8   \n",
       "3  Zilker Park at Barton Springs & William Barton...                     28   \n",
       "4                   Convention Center/ 3rd & Trinity                     15   \n",
       "\n",
       "   Month    Year  Checkout_Hour  Checkout_Min Year_2 Month_2  Weekday  \n",
       "0   10.0  2014.0             13            12   2014      10        6  \n",
       "1   10.0  2014.0             13            12   2014      10        6  \n",
       "2   10.0  2014.0             13            12   2014      10        6  \n",
       "3   10.0  2014.0             13            12   2014      10        6  \n",
       "4   10.0  2014.0             13            12   2014      10        6  "
      ]
     },
     "execution_count": 18,
     "metadata": {},
     "output_type": "execute_result"
    }
   ],
   "source": [
    "trips.head()"
   ]
  },
  {
   "cell_type": "markdown",
   "id": "0e19bd36",
   "metadata": {},
   "source": [
    "# B. Data Cleaning - \"trips\" dataset - Removing Rows"
   ]
  },
  {
   "cell_type": "markdown",
   "id": "a6ea82d4",
   "metadata": {},
   "source": [
    "Note: Plotting and checking out the Trip Duration data, but ultimately REMOVING THE SHORT TRIPS (0 MINUTES) and TRIPS LONGER THAN 8 DAYS in later cells"
   ]
  },
  {
   "cell_type": "code",
   "execution_count": 19,
   "id": "a32173f1",
   "metadata": {
    "scrolled": true
   },
   "outputs": [
    {
     "data": {
      "text/plain": [
       "count    1.424786e+06\n",
       "mean     3.087043e+01\n",
       "std      1.356364e+02\n",
       "min      0.000000e+00\n",
       "25%      6.000000e+00\n",
       "50%      1.300000e+01\n",
       "75%      2.900000e+01\n",
       "max      3.423800e+04\n",
       "Name: Trip Duration Minutes, dtype: float64"
      ]
     },
     "execution_count": 19,
     "metadata": {},
     "output_type": "execute_result"
    }
   ],
   "source": [
    "trips['Trip Duration Minutes'].describe()"
   ]
  },
  {
   "cell_type": "code",
   "execution_count": 20,
   "id": "338a8034",
   "metadata": {},
   "outputs": [
    {
     "data": {
      "text/plain": [
       "{'whiskers': [<matplotlib.lines.Line2D at 0x7fbde2163df0>,\n",
       "  <matplotlib.lines.Line2D at 0x7fbdf32c5190>],\n",
       " 'caps': [<matplotlib.lines.Line2D at 0x7fbdf32c54f0>,\n",
       "  <matplotlib.lines.Line2D at 0x7fbdf32c5850>],\n",
       " 'boxes': [<matplotlib.lines.Line2D at 0x7fbde2163a90>],\n",
       " 'medians': [<matplotlib.lines.Line2D at 0x7fbdf32c5bb0>],\n",
       " 'fliers': [<matplotlib.lines.Line2D at 0x7fbdf32c5f10>],\n",
       " 'means': []}"
      ]
     },
     "execution_count": 20,
     "metadata": {},
     "output_type": "execute_result"
    },
    {
     "data": {
      "image/png": "[encoded data removed]",
      "text/plain": [
       "<Figure size 432x288 with 1 Axes>"
      ]
     },
     "metadata": {},
     "output_type": "display_data"
    }
   ],
   "source": [
    "plt.boxplot(trips['Trip Duration Minutes'])\n",
    "# some of the trips are too short (0 minutues) \n",
    "# and potentially too long (>8 days or 11520 minutues)\n",
    "# removing these trips "
   ]
  },
  {
   "cell_type": "code",
   "execution_count": 21,
   "id": "b956a6dc",
   "metadata": {},
   "outputs": [
    {
     "data": {
      "text/plain": [
       "(0.0, 500.0)"
      ]
     },
     "execution_count": 21,
     "metadata": {},
     "output_type": "execute_result"
    },
    {
     "data": {
      "image/png": "[encoded data removed]",
      "text/plain": [
       "<Figure size 432x288 with 1 Axes>"
      ]
     },
     "metadata": {},
     "output_type": "display_data"
    }
   ],
   "source": [
    "plt.hist(trips['Trip Duration Minutes'], bins = 5000)\n",
    "plt.xlim(0,500)"
   ]
  },
  {
   "cell_type": "code",
   "execution_count": 22,
   "id": "4ac58c6f",
   "metadata": {},
   "outputs": [
    {
     "data": {
      "text/plain": [
       "1424786"
      ]
     },
     "execution_count": 22,
     "metadata": {},
     "output_type": "execute_result"
    }
   ],
   "source": [
    "trips.shape[0]"
   ]
  },
  {
   "cell_type": "markdown",
   "id": "e688f65d",
   "metadata": {},
   "source": [
    "REMOVING THE SHORT TRIPS (0 MINUTES) and TRIPS LONGER THAN 8 DAYS"
   ]
  },
  {
   "cell_type": "code",
   "execution_count": 23,
   "id": "ef7ed6ff",
   "metadata": {},
   "outputs": [],
   "source": [
    "trips = trips[(trips['Trip Duration Minutes']>0) & (trips['Trip Duration Minutes']<11520)]"
   ]
  },
  {
   "cell_type": "markdown",
   "id": "f1b8b9f0",
   "metadata": {},
   "source": [
    "Lets look at the data after this change"
   ]
  },
  {
   "cell_type": "code",
   "execution_count": 24,
   "id": "5627742e",
   "metadata": {},
   "outputs": [
    {
     "data": {
      "text/plain": [
       "1403016"
      ]
     },
     "execution_count": 24,
     "metadata": {},
     "output_type": "execute_result"
    }
   ],
   "source": [
    "trips.shape[0]"
   ]
  },
  {
   "cell_type": "code",
   "execution_count": 25,
   "id": "b25a1855",
   "metadata": {},
   "outputs": [
    {
     "data": {
      "text/plain": [
       "count    1.403016e+06\n",
       "mean     3.102227e+01\n",
       "std      1.134858e+02\n",
       "min      1.000000e+00\n",
       "25%      6.000000e+00\n",
       "50%      1.300000e+01\n",
       "75%      2.900000e+01\n",
       "max      1.147600e+04\n",
       "Name: Trip Duration Minutes, dtype: float64"
      ]
     },
     "execution_count": 25,
     "metadata": {},
     "output_type": "execute_result"
    }
   ],
   "source": [
    "trips['Trip Duration Minutes'].describe()"
   ]
  },
  {
   "cell_type": "code",
   "execution_count": 26,
   "id": "c5ba4bdd",
   "metadata": {},
   "outputs": [
    {
     "data": {
      "text/plain": [
       "{'whiskers': [<matplotlib.lines.Line2D at 0x7fbda756f6a0>,\n",
       "  <matplotlib.lines.Line2D at 0x7fbda756fa00>],\n",
       " 'caps': [<matplotlib.lines.Line2D at 0x7fbda756fd60>,\n",
       "  <matplotlib.lines.Line2D at 0x7fbda754e100>],\n",
       " 'boxes': [<matplotlib.lines.Line2D at 0x7fbda756f340>],\n",
       " 'medians': [<matplotlib.lines.Line2D at 0x7fbda754e460>],\n",
       " 'fliers': [<matplotlib.lines.Line2D at 0x7fbda754e7c0>],\n",
       " 'means': []}"
      ]
     },
     "execution_count": 26,
     "metadata": {},
     "output_type": "execute_result"
    },
    {
     "data": {
      "image/png": "[encoded data removed]",
      "text/plain": [
       "<Figure size 432x288 with 1 Axes>"
      ]
     },
     "metadata": {},
     "output_type": "display_data"
    }
   ],
   "source": [
    "# replotting\n",
    "plt.boxplot(trips['Trip Duration Minutes'])"
   ]
  },
  {
   "cell_type": "code",
   "execution_count": 27,
   "id": "110e518b",
   "metadata": {},
   "outputs": [
    {
     "data": {
      "text/plain": [
       "(0.0, 500.0)"
      ]
     },
     "execution_count": 27,
     "metadata": {},
     "output_type": "execute_result"
    },
    {
     "data": {
      "image/png": "[encoded data removed]",
      "text/plain": [
       "<Figure size 432x288 with 1 Axes>"
      ]
     },
     "metadata": {},
     "output_type": "display_data"
    }
   ],
   "source": [
    "plt.hist(trips['Trip Duration Minutes'], bins = 5000)\n",
    "plt.xlim(0,500)"
   ]
  },
  {
   "cell_type": "markdown",
   "id": "c977786a",
   "metadata": {},
   "source": [
    "# C. Data Cleaning - \"trips\" dataset - Fixing Kiosk IDs"
   ]
  },
  {
   "cell_type": "code",
   "execution_count": 28,
   "id": "286c37e3",
   "metadata": {},
   "outputs": [
    {
     "data": {
      "text/plain": [
       "1403016"
      ]
     },
     "execution_count": 28,
     "metadata": {},
     "output_type": "execute_result"
    }
   ],
   "source": [
    "trips.shape[0]"
   ]
  },
  {
   "cell_type": "markdown",
   "id": "33f7bf59",
   "metadata": {},
   "source": [
    "I. Removing these trip rows, based on the checkout kiosk name, the trips appear to be maintenance-related trips"
   ]
  },
  {
   "cell_type": "code",
   "execution_count": 29,
   "id": "9cff3e57",
   "metadata": {},
   "outputs": [],
   "source": [
    "trips = trips.loc[trips['Checkout Kiosk'] != 'Customer Service']\n",
    "trips = trips.loc[trips['Checkout Kiosk'] != 'Re-branding']\n",
    "trips = trips.loc[trips['Checkout Kiosk'] != 'Repair Shop']\n",
    "trips = trips.loc[trips['Checkout Kiosk'] != 'Shop']"
   ]
  },
  {
   "cell_type": "code",
   "execution_count": 30,
   "id": "fb612135",
   "metadata": {},
   "outputs": [
    {
     "data": {
      "text/plain": [
       "1402984"
      ]
     },
     "execution_count": 30,
     "metadata": {},
     "output_type": "execute_result"
    }
   ],
   "source": [
    "trips.shape[0]"
   ]
  },
  {
   "cell_type": "code",
   "execution_count": 31,
   "id": "f0e2338d",
   "metadata": {},
   "outputs": [],
   "source": [
    "#sorted(trips['Checkout Kiosk'].unique())"
   ]
  },
  {
   "cell_type": "code",
   "execution_count": 32,
   "id": "b79032d2",
   "metadata": {},
   "outputs": [],
   "source": [
    "#sorted(trips['Checkout Kiosk ID'].unique())"
   ]
  },
  {
   "cell_type": "code",
   "execution_count": 33,
   "id": "340b1172",
   "metadata": {},
   "outputs": [],
   "source": [
    "# Just Using this code for Testing\n",
    "# trips[trips['Checkout Kiosk']=='Mobile Station']"
   ]
  },
  {
   "cell_type": "code",
   "execution_count": 34,
   "id": "2edb1c41",
   "metadata": {},
   "outputs": [
    {
     "data": {
      "text/plain": [
       "False    1380211\n",
       "True       22773\n",
       "Name: Checkout Kiosk ID, dtype: int64"
      ]
     },
     "execution_count": 34,
     "metadata": {},
     "output_type": "execute_result"
    }
   ],
   "source": [
    "trips['Checkout Kiosk ID'].isnull().value_counts()"
   ]
  },
  {
   "cell_type": "code",
   "execution_count": 35,
   "id": "cbe76bad",
   "metadata": {},
   "outputs": [
    {
     "data": {
      "text/plain": [
       "array([3794.])"
      ]
     },
     "execution_count": 35,
     "metadata": {},
     "output_type": "execute_result"
    }
   ],
   "source": [
    "# Just Using this code for Testing\n",
    "trips[trips['Checkout Kiosk'].str.contains('4th/Sabine')]['Checkout Kiosk ID'].unique()"
   ]
  },
  {
   "cell_type": "markdown",
   "id": "d958e011",
   "metadata": {},
   "source": [
    "II. These trips were all nan for the \"Checkout Kiosk ID\" columan, in the next few cells I am manually adding IDs "
   ]
  },
  {
   "cell_type": "code",
   "execution_count": 36,
   "id": "ea82ff2b",
   "metadata": {},
   "outputs": [],
   "source": [
    "kiosk_names =['Red River @ LBJ Library', \n",
    "             'Bullock Museum @ Congress & MLK', \n",
    "             'Convention Center/ 3rd & Trinity',\n",
    "             'State Capitol @ 14th & Colorado', \n",
    "             'ACC - West & 12th', \n",
    "             'East 11th Street at Victory Grill', \n",
    "             'Zilker Park at Barton Springs & William Barton Drive', \n",
    "             'Dean Keeton & Speedway',\n",
    "             'Main Office']"
   ]
  },
  {
   "cell_type": "code",
   "execution_count": 37,
   "id": "36f46247",
   "metadata": {},
   "outputs": [],
   "source": [
    "new_IDs = [1004,  # ID in kiosk dataset\n",
    "            2538, # ID in kiosk dataset\n",
    "            2539, # ID in kiosk dataset\n",
    "            2541, # ID in kiosk dataset\n",
    "            2546, # ID in kiosk dataset\n",
    "            2568, # matches other trips, but these rows were nan\n",
    "            2574, # alternative name\n",
    "            3794, # ID in kiosk dataset\n",
    "            1001] # ID in kiosk dataset"
   ]
  },
  {
   "cell_type": "code",
   "execution_count": 38,
   "id": "6669e982",
   "metadata": {},
   "outputs": [],
   "source": [
    "cnt = 0\n",
    "for checkout_kname in kiosk_names:   \n",
    "    trips.loc[trips['Checkout Kiosk']==checkout_kname,'Checkout Kiosk ID']=new_IDs[cnt]\n",
    "    cnt += 1"
   ]
  },
  {
   "cell_type": "code",
   "execution_count": 39,
   "id": "61fa921e",
   "metadata": {},
   "outputs": [
    {
     "data": {
      "text/plain": [
       "False    1401207\n",
       "True        1777\n",
       "Name: Checkout Kiosk ID, dtype: int64"
      ]
     },
     "execution_count": 39,
     "metadata": {},
     "output_type": "execute_result"
    }
   ],
   "source": [
    "trips['Checkout Kiosk ID'].isnull().value_counts()"
   ]
  },
  {
   "cell_type": "markdown",
   "id": "caa56485",
   "metadata": {},
   "source": [
    "III. Addressing Other Checkout Kiosk ID Issues"
   ]
  },
  {
   "cell_type": "code",
   "execution_count": 40,
   "id": "84cee773",
   "metadata": {},
   "outputs": [],
   "source": [
    "kiosk_names2 =['Republic Square @ 5th & Guadalupe',\n",
    "             'Dean Keeton/Speedway ',\n",
    "             'Dean Keeton/Speedway', \n",
    "             '4th/Sabine']"
   ]
  },
  {
   "cell_type": "code",
   "execution_count": 41,
   "id": "ac91178e",
   "metadata": {},
   "outputs": [],
   "source": [
    "new_IDs2 = [3455,  # ID in kiosk dataset, in trips these rows were IDed as 3456\n",
    "            3794,  # ID in kiosk dataset, in trips these rows were IDed as 2498\n",
    "            3794,  # ID in kiosk dataset, in trips these rows were IDed as 2498\n",
    "            10]    # placeholder ID created, in trips these rows were IDed as 3794 (used for Dean Keeton/Speedway)"
   ]
  },
  {
   "cell_type": "code",
   "execution_count": 42,
   "id": "b9d042c0",
   "metadata": {},
   "outputs": [],
   "source": [
    "cnt = 0\n",
    "for checkout_kname2 in kiosk_names2:   \n",
    "    trips.loc[trips['Checkout Kiosk']==checkout_kname2,'Checkout Kiosk ID']=new_IDs2[cnt]\n",
    "    cnt += 1"
   ]
  },
  {
   "cell_type": "markdown",
   "id": "2cede556",
   "metadata": {},
   "source": [
    "IV. After the above operations I-III. The only trips with \"Checkout Kiosk ID\" = nan should be special events"
   ]
  },
  {
   "cell_type": "markdown",
   "id": "c242d857",
   "metadata": {},
   "source": [
    "Taking a closer look below, to verify this"
   ]
  },
  {
   "cell_type": "code",
   "execution_count": 43,
   "id": "363fa203",
   "metadata": {},
   "outputs": [
    {
     "data": {
      "text/plain": [
       "array(['Mobile Station', 'Mobile Station @ Bike Fest', 'Marketing Event',\n",
       "       'MapJam at Hops & Grain Brewery', 'MapJam at Pan Am Park',\n",
       "       'MapJam at French Legation', 'MapJam at Scoot Inn',\n",
       "       'Mobile Station @ Boardwalk Opening Ceremony',\n",
       "       'Mobile Station @ Unplugged', \"Eeyore's 2017\", \"Eeyore's 2018\"],\n",
       "      dtype=object)"
      ]
     },
     "execution_count": 43,
     "metadata": {},
     "output_type": "execute_result"
    }
   ],
   "source": [
    "trips[trips['Checkout Kiosk ID'].isnull()]['Checkout Kiosk'].unique()"
   ]
  },
  {
   "cell_type": "code",
   "execution_count": 44,
   "id": "1bbe41de",
   "metadata": {},
   "outputs": [
    {
     "data": {
      "text/plain": [
       "1777"
      ]
     },
     "execution_count": 44,
     "metadata": {},
     "output_type": "execute_result"
    }
   ],
   "source": [
    "trips[trips['Checkout Kiosk ID'].isnull()]['Checkout Kiosk'].count()"
   ]
  },
  {
   "cell_type": "code",
   "execution_count": 45,
   "id": "938ee057",
   "metadata": {},
   "outputs": [
    {
     "data": {
      "text/plain": [
       "Year_2  Checkout Kiosk                             \n",
       "2014    Mobile Station @ Bike Fest                     509\n",
       "        Mobile Station                                 251\n",
       "        MapJam at Hops & Grain Brewery                  19\n",
       "        Mobile Station @ Boardwalk Opening Ceremony      9\n",
       "        Mobile Station @ Unplugged                       4\n",
       "2015    Mobile Station                                 909\n",
       "        MapJam at Pan Am Park                           32\n",
       "        MapJam at French Legation                       26\n",
       "        MapJam at Scoot Inn                             11\n",
       "        Marketing Event                                  4\n",
       "2018    Eeyore's 2018                                    2\n",
       "        Eeyore's 2017                                    1\n",
       "Name: Checkout Kiosk, dtype: int64"
      ]
     },
     "execution_count": 45,
     "metadata": {},
     "output_type": "execute_result"
    }
   ],
   "source": [
    "trips[trips['Checkout Kiosk ID'].isnull()].groupby(['Year_2'])['Checkout Kiosk'].value_counts()"
   ]
  },
  {
   "cell_type": "markdown",
   "id": "93e2a276",
   "metadata": {},
   "source": [
    "# D. Data Cleaning - \"kiosk\" dataset - Adding two new rows"
   ]
  },
  {
   "cell_type": "markdown",
   "id": "6915e40c",
   "metadata": {},
   "source": [
    "The \"trips\" dataset included trips from two kiosks that were NOT in the \"kiosk\" dataset, to address this mismatch - we added two new kiosk rows to the \"kiosk\" dataset"
   ]
  },
  {
   "cell_type": "code",
   "execution_count": 46,
   "id": "65a2aea0",
   "metadata": {},
   "outputs": [
    {
     "data": {
      "text/plain": [
       "Index(['Kiosk ID', 'Kiosk Name', 'Kiosk Status', 'Location', 'Address',\n",
       "       'Alternate Name', 'City Asset Number', 'Property Type',\n",
       "       'Number of Docks', 'Power Type', 'Footprint Length', 'Footprint Width',\n",
       "       'Notes', 'Council District', 'Image', 'Modified Date'],\n",
       "      dtype='object')"
      ]
     },
     "execution_count": 46,
     "metadata": {},
     "output_type": "execute_result"
    }
   ],
   "source": [
    "kiosk.columns"
   ]
  },
  {
   "cell_type": "code",
   "execution_count": 47,
   "id": "ba5c3daa",
   "metadata": {},
   "outputs": [],
   "source": [
    "# 4th/Sabine NOT IN kiosk dataset, \n",
    "  # in the trips dataset, this kiosk is IDed as 3794, \n",
    "\n",
    "row1 = {'Kiosk ID': 10, 'Kiosk Name': '4th/Sabine', 'Kiosk Status': 'Unknown','Location': '(30.26441, -97.73655)','Address': '702 E 4th St.','Alternate Name': '','City Asset Number': '','Property Type': '','Number of Docks': '','Power Type': '','Footprint Length': '','Footprint Width': '','Notes': '','Council District': '','Image': '','Modified Date': 'Mandy 2021-01-16'}\n",
    "\n",
    "kiosk = kiosk.append(row1, ignore_index = True)\n",
    "\n",
    "# 22.5/Rio Grande is NOT IN kiosk dataset\n",
    "  # in the trips dataset, this kiosk is IDed as 4938\n",
    "\n",
    "row2 = {'Kiosk ID': 4938, 'Kiosk Name': '22.5/Rio Grande', 'Kiosk Status': 'Text','Location': '(30.2862, -97.74516)','Address': '710 W. 22 1/2 St','Alternate Name': '','City Asset Number': '','Property Type': '','Number of Docks': '','Power Type': '','Footprint Length': '','Footprint Width': '','Notes': '','Council District': '','Image': '','Modified Date': 'Mandy 2021-01-16'}\n",
    "    \n",
    "kiosk = kiosk.append(row2, ignore_index = True)"
   ]
  },
  {
   "cell_type": "code",
   "execution_count": 48,
   "id": "da7d6c8d",
   "metadata": {},
   "outputs": [],
   "source": [
    "# testing if the row add worked\n",
    "# kiosk[kiosk['Kiosk ID']== 4938]"
   ]
  },
  {
   "cell_type": "markdown",
   "id": "d0afeacd",
   "metadata": {},
   "source": [
    "# Add number of rides columns to Kiosks dataframe"
   ]
  },
  {
   "cell_type": "code",
   "execution_count": 49,
   "id": "908b7456",
   "metadata": {},
   "outputs": [],
   "source": [
    "trips_2013 = trips.loc[trips['Year_2'] == '2013']\n",
    "trips_2014 = trips.loc[trips['Year_2'] == '2014']\n",
    "trips_2015 = trips.loc[trips['Year_2'] == '2015']\n",
    "trips_2016 = trips.loc[trips['Year_2'] == '2016']\n",
    "trips_2017 = trips.loc[trips['Year_2'] == '2017']\n",
    "trips_2018 = trips.loc[trips['Year_2'] == '2018']\n",
    "trips_2019 = trips.loc[trips['Year_2'] == '2019']\n",
    "trips_2020 = trips.loc[trips['Year_2'] == '2020']\n",
    "trips_2021 = trips.loc[trips['Year_2'] == '2021']\n",
    "# trips_recent = trips[trips['Year_2'].isin(['2017','2018','2019','2020'])]"
   ]
  },
  {
   "cell_type": "code",
   "execution_count": 50,
   "id": "70284e0c",
   "metadata": {
    "scrolled": true
   },
   "outputs": [],
   "source": [
    "all_kiosks = kiosk['Kiosk ID'].unique()\n",
    "# all_kiosks"
   ]
  },
  {
   "cell_type": "code",
   "execution_count": 51,
   "id": "0e7550c6",
   "metadata": {},
   "outputs": [],
   "source": [
    "ntrips = []\n",
    "ntrips_2013 = []\n",
    "ntrips_2014 = []\n",
    "ntrips_2015 = []\n",
    "ntrips_2016 = []\n",
    "ntrips_2017 = []\n",
    "ntrips_2018 = []\n",
    "ntrips_2019 = []\n",
    "ntrips_2020 = []\n",
    "ntrips_2021 = []\n",
    "\n",
    "for k in all_kiosks:\n",
    "    ntrips = np.append(ntrips, \n",
    "                trips[trips['Checkout Kiosk ID'] == k].size)      \n",
    "\n",
    "    ntrips_2013 = np.append(ntrips_2013, \n",
    "                trips_2013[trips_2013['Checkout Kiosk ID'] == k].size)\n",
    "        \n",
    "    ntrips_2014 = np.append(ntrips_2014, \n",
    "                trips_2014[trips_2014['Checkout Kiosk ID'] == k].size)\n",
    "            \n",
    "    ntrips_2015 = np.append(ntrips_2015, \n",
    "                trips_2015[trips_2015['Checkout Kiosk ID'] == k].size)\n",
    "            \n",
    "    ntrips_2016 = np.append(ntrips_2016, \n",
    "                trips_2016[trips_2016['Checkout Kiosk ID'] == k].size)\n",
    "    \n",
    "    ntrips_2017 = np.append(ntrips_2017, \n",
    "                trips_2017[trips_2017['Checkout Kiosk ID'] == k].size)\n",
    "                    \n",
    "    ntrips_2018 = np.append(ntrips_2018, \n",
    "                trips_2018[trips_2018['Checkout Kiosk ID'] == k].size)\n",
    "    \n",
    "    ntrips_2019 = np.append(ntrips_2019, \n",
    "                trips_2019[trips_2019['Checkout Kiosk ID'] == k].size)\n",
    "    \n",
    "    ntrips_2020 = np.append(ntrips_2020, \n",
    "                trips_2020[trips_2020['Checkout Kiosk ID'] == k].size)\n",
    "    \n",
    "    ntrips_2021 = np.append(ntrips_2021, \n",
    "                trips_2021[trips_2021['Checkout Kiosk ID'] == k].size)\n",
    "\n",
    "kiosk['Num_Rides_AllTime'] = ntrips\n",
    "kiosk['Num_Rides_2013'] = ntrips_2013\n",
    "kiosk['Num_Rides_2014'] = ntrips_2014\n",
    "kiosk['Num_Rides_2015'] = ntrips_2015\n",
    "kiosk['Num_Rides_2016'] = ntrips_2016\n",
    "kiosk['Num_Rides_2017'] = ntrips_2017\n",
    "kiosk['Num_Rides_2018'] = ntrips_2018\n",
    "kiosk['Num_Rides_2019'] = ntrips_2019\n",
    "kiosk['Num_Rides_2020'] = ntrips_2020\n",
    "kiosk['Num_Rides_2021'] = ntrips_2021"
   ]
  },
  {
   "cell_type": "code",
   "execution_count": 52,
   "id": "8819db66",
   "metadata": {},
   "outputs": [],
   "source": [
    "kiosk['UsedIn_2013'] = np.where(kiosk['Num_Rides_2013']> 0, 1, 0)\n",
    "kiosk['UsedIn_2014'] = np.where(kiosk['Num_Rides_2014']> 0, 1, 0)\n",
    "kiosk['UsedIn_2015'] = np.where(kiosk['Num_Rides_2015']> 0, 1, 0)\n",
    "kiosk['UsedIn_2016'] = np.where(kiosk['Num_Rides_2016']> 0, 1, 0)\n",
    "kiosk['UsedIn_2017'] = np.where(kiosk['Num_Rides_2017']> 0, 1, 0)\n",
    "kiosk['UsedIn_2018'] = np.where(kiosk['Num_Rides_2018']> 0, 1, 0)\n",
    "kiosk['UsedIn_2019'] = np.where(kiosk['Num_Rides_2019']> 0, 1, 0)\n",
    "kiosk['UsedIn_2020'] = np.where(kiosk['Num_Rides_2020']> 0, 1, 0)\n",
    "kiosk['UsedIn_2021'] = np.where(kiosk['Num_Rides_2021']> 0, 1, 0)"
   ]
  },
  {
   "cell_type": "code",
   "execution_count": 53,
   "id": "3c13892a",
   "metadata": {
    "scrolled": true
   },
   "outputs": [
    {
     "data": {
      "text/html": [
       "<div>\n",
       "<style scoped>\n",
       "    .dataframe tbody tr th:only-of-type {\n",
       "        vertical-align: middle;\n",
       "    }\n",
       "\n",
       "    .dataframe tbody tr th {\n",
       "        vertical-align: top;\n",
       "    }\n",
       "\n",
       "    .dataframe thead th {\n",
       "        text-align: right;\n",
       "    }\n",
       "</style>\n",
       "<table border=\"1\" class=\"dataframe\">\n",
       "  <thead>\n",
       "    <tr style=\"text-align: right;\">\n",
       "      <th></th>\n",
       "      <th>Kiosk ID</th>\n",
       "      <th>Kiosk Name</th>\n",
       "      <th>Kiosk Status</th>\n",
       "      <th>Location</th>\n",
       "      <th>Address</th>\n",
       "      <th>Alternate Name</th>\n",
       "      <th>City Asset Number</th>\n",
       "      <th>Property Type</th>\n",
       "      <th>Number of Docks</th>\n",
       "      <th>Power Type</th>\n",
       "      <th>...</th>\n",
       "      <th>Num_Rides_2021</th>\n",
       "      <th>UsedIn_2013</th>\n",
       "      <th>UsedIn_2014</th>\n",
       "      <th>UsedIn_2015</th>\n",
       "      <th>UsedIn_2016</th>\n",
       "      <th>UsedIn_2017</th>\n",
       "      <th>UsedIn_2018</th>\n",
       "      <th>UsedIn_2019</th>\n",
       "      <th>UsedIn_2020</th>\n",
       "      <th>UsedIn_2021</th>\n",
       "    </tr>\n",
       "  </thead>\n",
       "  <tbody>\n",
       "    <tr>\n",
       "      <th>0</th>\n",
       "      <td>2570</td>\n",
       "      <td>South Congress &amp; Academy</td>\n",
       "      <td>active</td>\n",
       "      <td>(30.25226, -97.74854)</td>\n",
       "      <td>1199 S. Congress Ave.</td>\n",
       "      <td>NaN</td>\n",
       "      <td>16752.0</td>\n",
       "      <td>sidewalk</td>\n",
       "      <td>10.0</td>\n",
       "      <td>solar</td>\n",
       "      <td>...</td>\n",
       "      <td>11322.0</td>\n",
       "      <td>0</td>\n",
       "      <td>1</td>\n",
       "      <td>1</td>\n",
       "      <td>1</td>\n",
       "      <td>1</td>\n",
       "      <td>1</td>\n",
       "      <td>1</td>\n",
       "      <td>1</td>\n",
       "      <td>1</td>\n",
       "    </tr>\n",
       "    <tr>\n",
       "      <th>1</th>\n",
       "      <td>2571</td>\n",
       "      <td>Red River &amp; 8th Street</td>\n",
       "      <td>active</td>\n",
       "      <td>(30.26854, -97.73646)</td>\n",
       "      <td>761 Red River St.</td>\n",
       "      <td>NaN</td>\n",
       "      <td>16760.0</td>\n",
       "      <td>sidewalk</td>\n",
       "      <td>13.0</td>\n",
       "      <td>solar</td>\n",
       "      <td>...</td>\n",
       "      <td>14637.0</td>\n",
       "      <td>0</td>\n",
       "      <td>1</td>\n",
       "      <td>1</td>\n",
       "      <td>1</td>\n",
       "      <td>1</td>\n",
       "      <td>1</td>\n",
       "      <td>1</td>\n",
       "      <td>1</td>\n",
       "      <td>1</td>\n",
       "    </tr>\n",
       "    <tr>\n",
       "      <th>2</th>\n",
       "      <td>2572</td>\n",
       "      <td>Barton Springs Pool</td>\n",
       "      <td>active</td>\n",
       "      <td>(30.26452, -97.7712)</td>\n",
       "      <td>2200 William Barton Dr.</td>\n",
       "      <td>NaN</td>\n",
       "      <td>16758.0</td>\n",
       "      <td>parkland</td>\n",
       "      <td>13.0</td>\n",
       "      <td>solar</td>\n",
       "      <td>...</td>\n",
       "      <td>20213.0</td>\n",
       "      <td>0</td>\n",
       "      <td>1</td>\n",
       "      <td>1</td>\n",
       "      <td>1</td>\n",
       "      <td>1</td>\n",
       "      <td>1</td>\n",
       "      <td>1</td>\n",
       "      <td>1</td>\n",
       "      <td>1</td>\n",
       "    </tr>\n",
       "    <tr>\n",
       "      <th>3</th>\n",
       "      <td>2574</td>\n",
       "      <td>Zilker Park</td>\n",
       "      <td>active</td>\n",
       "      <td>(30.2659, -97.76822)</td>\n",
       "      <td>Barton Springs Rd</td>\n",
       "      <td>Zilker Park at Barton Springs and William Burt...</td>\n",
       "      <td>16759.0</td>\n",
       "      <td>parkland</td>\n",
       "      <td>17.0</td>\n",
       "      <td>solar</td>\n",
       "      <td>...</td>\n",
       "      <td>47209.0</td>\n",
       "      <td>0</td>\n",
       "      <td>1</td>\n",
       "      <td>1</td>\n",
       "      <td>1</td>\n",
       "      <td>1</td>\n",
       "      <td>1</td>\n",
       "      <td>1</td>\n",
       "      <td>1</td>\n",
       "      <td>1</td>\n",
       "    </tr>\n",
       "    <tr>\n",
       "      <th>4</th>\n",
       "      <td>2575</td>\n",
       "      <td>Riverside @ S. Lamar</td>\n",
       "      <td>active</td>\n",
       "      <td>(30.26446, -97.75665)</td>\n",
       "      <td>Presented by Austin Parks Foundation</td>\n",
       "      <td>NaN</td>\n",
       "      <td>16736.0</td>\n",
       "      <td>parkland</td>\n",
       "      <td>15.0</td>\n",
       "      <td>solar</td>\n",
       "      <td>...</td>\n",
       "      <td>50201.0</td>\n",
       "      <td>0</td>\n",
       "      <td>1</td>\n",
       "      <td>1</td>\n",
       "      <td>1</td>\n",
       "      <td>1</td>\n",
       "      <td>1</td>\n",
       "      <td>1</td>\n",
       "      <td>1</td>\n",
       "      <td>1</td>\n",
       "    </tr>\n",
       "  </tbody>\n",
       "</table>\n",
       "<p>5 rows × 35 columns</p>\n",
       "</div>"
      ],
      "text/plain": [
       "   Kiosk ID                Kiosk Name Kiosk Status               Location  \\\n",
       "0      2570  South Congress & Academy       active  (30.25226, -97.74854)   \n",
       "1      2571    Red River & 8th Street       active  (30.26854, -97.73646)   \n",
       "2      2572       Barton Springs Pool       active   (30.26452, -97.7712)   \n",
       "3      2574               Zilker Park       active   (30.2659, -97.76822)   \n",
       "4      2575      Riverside @ S. Lamar       active  (30.26446, -97.75665)   \n",
       "\n",
       "                                Address  \\\n",
       "0                 1199 S. Congress Ave.   \n",
       "1                     761 Red River St.   \n",
       "2               2200 William Barton Dr.   \n",
       "3                     Barton Springs Rd   \n",
       "4  Presented by Austin Parks Foundation   \n",
       "\n",
       "                                      Alternate Name City Asset Number  \\\n",
       "0                                                NaN           16752.0   \n",
       "1                                                NaN           16760.0   \n",
       "2                                                NaN           16758.0   \n",
       "3  Zilker Park at Barton Springs and William Burt...           16759.0   \n",
       "4                                                NaN           16736.0   \n",
       "\n",
       "  Property Type Number of Docks Power Type  ... Num_Rides_2021 UsedIn_2013  \\\n",
       "0      sidewalk            10.0      solar  ...        11322.0           0   \n",
       "1      sidewalk            13.0      solar  ...        14637.0           0   \n",
       "2      parkland            13.0      solar  ...        20213.0           0   \n",
       "3      parkland            17.0      solar  ...        47209.0           0   \n",
       "4      parkland            15.0      solar  ...        50201.0           0   \n",
       "\n",
       "  UsedIn_2014 UsedIn_2015 UsedIn_2016 UsedIn_2017  UsedIn_2018  UsedIn_2019  \\\n",
       "0           1           1           1           1            1            1   \n",
       "1           1           1           1           1            1            1   \n",
       "2           1           1           1           1            1            1   \n",
       "3           1           1           1           1            1            1   \n",
       "4           1           1           1           1            1            1   \n",
       "\n",
       "   UsedIn_2020  UsedIn_2021  \n",
       "0            1            1  \n",
       "1            1            1  \n",
       "2            1            1  \n",
       "3            1            1  \n",
       "4            1            1  \n",
       "\n",
       "[5 rows x 35 columns]"
      ]
     },
     "execution_count": 53,
     "metadata": {},
     "output_type": "execute_result"
    }
   ],
   "source": [
    "kiosk.head()"
   ]
  },
  {
   "cell_type": "markdown",
   "id": "ad7ae888",
   "metadata": {},
   "source": [
    "Important: Doing some checks here... on the number of kiosks each year. The next two cells need to match. "
   ]
  },
  {
   "cell_type": "code",
   "execution_count": 54,
   "id": "ae2a0098",
   "metadata": {
    "scrolled": true
   },
   "outputs": [
    {
     "data": {
      "text/plain": [
       "Year_2\n",
       "2013    11\n",
       "2014    50\n",
       "2015    55\n",
       "2016    57\n",
       "2017    58\n",
       "2018    78\n",
       "2019    76\n",
       "2020    76\n",
       "2021    76\n",
       "Name: Checkout Kiosk ID, dtype: int64"
      ]
     },
     "execution_count": 54,
     "metadata": {},
     "output_type": "execute_result"
    }
   ],
   "source": [
    "trips.groupby('Year_2')['Checkout Kiosk ID'].nunique()"
   ]
  },
  {
   "cell_type": "code",
   "execution_count": 55,
   "id": "a5339fa6",
   "metadata": {},
   "outputs": [
    {
     "name": "stdout",
     "output_type": "stream",
     "text": [
      "11\n",
      "50\n",
      "55\n",
      "57\n",
      "58\n",
      "78\n",
      "76\n",
      "76\n",
      "76\n"
     ]
    }
   ],
   "source": [
    "print(kiosk['UsedIn_2013'].sum())\n",
    "print(kiosk['UsedIn_2014'].sum())\n",
    "print(kiosk['UsedIn_2015'].sum())\n",
    "print(kiosk['UsedIn_2016'].sum())\n",
    "print(kiosk['UsedIn_2017'].sum())\n",
    "print(kiosk['UsedIn_2018'].sum())\n",
    "print(kiosk['UsedIn_2019'].sum())\n",
    "print(kiosk['UsedIn_2020'].sum())\n",
    "print(kiosk['UsedIn_2021'].sum())"
   ]
  },
  {
   "cell_type": "code",
   "execution_count": 56,
   "id": "57c7daf2",
   "metadata": {},
   "outputs": [],
   "source": [
    "# Digging into the discrepancies \n",
    "# temp2 = list(kiosk['Kiosk ID'])\n",
    "# temp1 = list(trips_2020['Checkout Kiosk ID'].unique())\n",
    "# s = set(temp2)\n",
    "# temp3 = [x for x in temp1 if x not in s]\n",
    "# temp3"
   ]
  },
  {
   "cell_type": "markdown",
   "id": "f0a93f3d",
   "metadata": {},
   "source": [
    "# Save cleaned data into CSV files"
   ]
  },
  {
   "cell_type": "code",
   "execution_count": 57,
   "id": "a4e61901",
   "metadata": {},
   "outputs": [],
   "source": [
    "trips.to_csv('./Data/trips.csv')\n",
    "kiosk.to_csv('./Data/kiosk.csv')\n",
    "survey_2019.to_csv('./Data/survey.csv')"
   ]
  },
  {
   "cell_type": "code",
   "execution_count": null,
   "id": "02ff2f30",
   "metadata": {},
   "outputs": [],
   "source": []
  }
 ],
 "metadata": {
  "kernelspec": {
   "display_name": "Python 3",
   "language": "python",
   "name": "python3"
  },
  "language_info": {
   "codemirror_mode": {
    "name": "ipython",
    "version": 3
   },
   "file_extension": ".py",
   "mimetype": "text/x-python",
   "name": "python",
   "nbconvert_exporter": "python",
   "pygments_lexer": "ipython3",
   "version": "3.8.8"
  }
 },
 "nbformat": 4,
 "nbformat_minor": 5
}
